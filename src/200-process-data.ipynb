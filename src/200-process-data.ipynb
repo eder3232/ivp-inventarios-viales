{
 "cells": [
  {
   "cell_type": "markdown",
   "metadata": {},
   "source": [
    "# Procesamiento de datos"
   ]
  },
  {
   "cell_type": "markdown",
   "metadata": {},
   "source": [
    "En este archivo se verifica que los datos tomados en campo sean consistentes con las imagenes tomadas en campo."
   ]
  },
  {
   "cell_type": "markdown",
   "metadata": {},
   "source": [
    "## Importaciones necesarias"
   ]
  },
  {
   "cell_type": "code",
   "execution_count": 1,
   "metadata": {},
   "outputs": [],
   "source": [
    "import shutil\n",
    "import os\n",
    "import glob\n",
    "\n",
    "import pandas as pd\n",
    "import numpy as np\n",
    "from IPython.display import display, HTML\n",
    "from config import CONFIG\n",
    "from pathlib import Path"
   ]
  },
  {
   "cell_type": "markdown",
   "metadata": {},
   "source": [
    "## Paths necesarios"
   ]
  },
  {
   "cell_type": "code",
   "execution_count": 2,
   "metadata": {},
   "outputs": [],
   "source": [
    "excel_path=Path(CONFIG[\"EXEL_PATH\"])\n",
    "processed_data_pickle_path=Path(CONFIG[\"PROCESSED_DATA_PICKLE_PATH\"])\n",
    "images_renamed_by_date_dir=Path(CONFIG[\"IMAGES_RENAMED_BY_DATE_DIR\"])\n",
    "images_processed_dir=Path(CONFIG[\"IMAGES_PROCESSED_DIR\"])"
   ]
  },
  {
   "cell_type": "markdown",
   "metadata": {},
   "source": [
    "## Importación de los datos"
   ]
  },
  {
   "cell_type": "code",
   "execution_count": 3,
   "metadata": {},
   "outputs": [],
   "source": [
    "df=pd.read_excel(excel_path,dtype=str,keep_default_na=False)"
   ]
  },
  {
   "cell_type": "code",
   "execution_count": 4,
   "metadata": {},
   "outputs": [],
   "source": [
    "df[\"id\"] = pd.to_numeric(df[\"id\"], errors=\"coerce\").astype(\"Int64\")\n",
    "df[\"km\"] = pd.to_numeric(df[\"km\"], errors=\"coerce\").astype(\"Int64\")\n",
    "df[\"m\"]  = pd.to_numeric(df[\"m\"], errors=\"coerce\").astype(\"Int64\")"
   ]
  },
  {
   "cell_type": "code",
   "execution_count": 5,
   "metadata": {},
   "outputs": [
    {
     "data": {
      "text/html": [
       "<div>\n",
       "<style scoped>\n",
       "    .dataframe tbody tr th:only-of-type {\n",
       "        vertical-align: middle;\n",
       "    }\n",
       "\n",
       "    .dataframe tbody tr th {\n",
       "        vertical-align: top;\n",
       "    }\n",
       "\n",
       "    .dataframe thead th {\n",
       "        text-align: right;\n",
       "    }\n",
       "</style>\n",
       "<table border=\"1\" class=\"dataframe\">\n",
       "  <thead>\n",
       "    <tr style=\"text-align: right;\">\n",
       "      <th></th>\n",
       "      <th>id</th>\n",
       "      <th>descripcion</th>\n",
       "      <th>informacion-adicional</th>\n",
       "      <th>km</th>\n",
       "      <th>m</th>\n",
       "      <th>sentido</th>\n",
       "      <th>foto-number</th>\n",
       "    </tr>\n",
       "  </thead>\n",
       "  <tbody>\n",
       "    <tr>\n",
       "      <th>0</th>\n",
       "      <td>1</td>\n",
       "      <td>Final</td>\n",
       "      <td></td>\n",
       "      <td>11</td>\n",
       "      <td>750</td>\n",
       "      <td></td>\n",
       "      <td>1</td>\n",
       "    </tr>\n",
       "    <tr>\n",
       "      <th>1</th>\n",
       "      <td>2</td>\n",
       "      <td>Hito kilometrico</td>\n",
       "      <td>15</td>\n",
       "      <td>8</td>\n",
       "      <td>10</td>\n",
       "      <td>o</td>\n",
       "      <td>2</td>\n",
       "    </tr>\n",
       "    <tr>\n",
       "      <th>2</th>\n",
       "      <td>3</td>\n",
       "      <td>Puente</td>\n",
       "      <td></td>\n",
       "      <td>7</td>\n",
       "      <td>740</td>\n",
       "      <td></td>\n",
       "      <td>3</td>\n",
       "    </tr>\n",
       "    <tr>\n",
       "      <th>3</th>\n",
       "      <td>4</td>\n",
       "      <td>Baden</td>\n",
       "      <td></td>\n",
       "      <td>7</td>\n",
       "      <td>490</td>\n",
       "      <td></td>\n",
       "      <td>4</td>\n",
       "    </tr>\n",
       "    <tr>\n",
       "      <th>4</th>\n",
       "      <td>5</td>\n",
       "      <td>Baden</td>\n",
       "      <td></td>\n",
       "      <td>8</td>\n",
       "      <td>470</td>\n",
       "      <td></td>\n",
       "      <td>5</td>\n",
       "    </tr>\n",
       "  </tbody>\n",
       "</table>\n",
       "</div>"
      ],
      "text/plain": [
       "   id       descripcion informacion-adicional  km    m sentido foto-number\n",
       "0   1             Final                        11  750                   1\n",
       "1   2  Hito kilometrico                    15   8   10       o           2\n",
       "2   3            Puente                         7  740                   3\n",
       "3   4             Baden                         7  490                   4\n",
       "4   5             Baden                         8  470                   5"
      ]
     },
     "execution_count": 5,
     "metadata": {},
     "output_type": "execute_result"
    }
   ],
   "source": [
    "df.head()"
   ]
  },
  {
   "cell_type": "markdown",
   "metadata": {},
   "source": [
    "## Edición manual de datos"
   ]
  },
  {
   "cell_type": "markdown",
   "metadata": {},
   "source": [
    "Para este caso particular no se requiere edición manual de los datos.\n",
    "Es posible que se requieran hacer cambio en las imagenes, como eliminar o agregar alguna, como no ocurre nada de esto, se crea una copia."
   ]
  },
  {
   "cell_type": "code",
   "execution_count": 6,
   "metadata": {},
   "outputs": [
    {
     "name": "stdout",
     "output_type": "stream",
     "text": [
      "Copiado: tmp\\images\\100_images_renamed_by_date\\1.jpg\n",
      "Copiado: tmp\\images\\100_images_renamed_by_date\\10.jpg\n",
      "Copiado: tmp\\images\\100_images_renamed_by_date\\11.jpg\n",
      "Copiado: tmp\\images\\100_images_renamed_by_date\\12.jpg\n",
      "Copiado: tmp\\images\\100_images_renamed_by_date\\13.jpg\n",
      "Copiado: tmp\\images\\100_images_renamed_by_date\\14.jpg\n",
      "Copiado: tmp\\images\\100_images_renamed_by_date\\15.jpg\n",
      "Copiado: tmp\\images\\100_images_renamed_by_date\\16.jpg\n",
      "Copiado: tmp\\images\\100_images_renamed_by_date\\17.jpg\n",
      "Copiado: tmp\\images\\100_images_renamed_by_date\\18.jpg\n",
      "Copiado: tmp\\images\\100_images_renamed_by_date\\19.jpg\n",
      "Copiado: tmp\\images\\100_images_renamed_by_date\\2.jpg\n",
      "Copiado: tmp\\images\\100_images_renamed_by_date\\20.jpg\n",
      "Copiado: tmp\\images\\100_images_renamed_by_date\\21.jpg\n",
      "Copiado: tmp\\images\\100_images_renamed_by_date\\22.jpg\n",
      "Copiado: tmp\\images\\100_images_renamed_by_date\\23.jpg\n",
      "Copiado: tmp\\images\\100_images_renamed_by_date\\24.jpg\n",
      "Copiado: tmp\\images\\100_images_renamed_by_date\\25.jpg\n",
      "Copiado: tmp\\images\\100_images_renamed_by_date\\26.jpg\n",
      "Copiado: tmp\\images\\100_images_renamed_by_date\\27.jpg\n",
      "Copiado: tmp\\images\\100_images_renamed_by_date\\28.jpg\n",
      "Copiado: tmp\\images\\100_images_renamed_by_date\\29.jpg\n",
      "Copiado: tmp\\images\\100_images_renamed_by_date\\3.jpg\n",
      "Copiado: tmp\\images\\100_images_renamed_by_date\\30.jpg\n",
      "Copiado: tmp\\images\\100_images_renamed_by_date\\31.jpg\n",
      "Copiado: tmp\\images\\100_images_renamed_by_date\\32.jpg\n",
      "Copiado: tmp\\images\\100_images_renamed_by_date\\33.jpg\n",
      "Copiado: tmp\\images\\100_images_renamed_by_date\\34.jpg\n",
      "Copiado: tmp\\images\\100_images_renamed_by_date\\35.jpg\n",
      "Copiado: tmp\\images\\100_images_renamed_by_date\\36.jpg\n",
      "Copiado: tmp\\images\\100_images_renamed_by_date\\4.jpg\n",
      "Copiado: tmp\\images\\100_images_renamed_by_date\\5.jpg\n",
      "Copiado: tmp\\images\\100_images_renamed_by_date\\6.jpg\n",
      "Copiado: tmp\\images\\100_images_renamed_by_date\\7.jpg\n",
      "Copiado: tmp\\images\\100_images_renamed_by_date\\8.jpg\n",
      "Copiado: tmp\\images\\100_images_renamed_by_date\\9.jpg\n",
      "Total de imágenes copiadas: 36\n"
     ]
    }
   ],
   "source": [
    "def copiar_imagenes(origen, destino):\n",
    "    # Verifica si el directorio de destino existe, de lo contrario, lo crea.\n",
    "    if not os.path.exists(destino):\n",
    "        os.makedirs(destino)\n",
    "        print(f\"Directorio destino creado: {destino}\")\n",
    "\n",
    "    # Definir las extensiones de imagen a copiar\n",
    "    extensiones = ('*.jpg', '*.jpeg', '*.png', '*.gif', '*.bmp', '*.tiff')\n",
    "    \n",
    "    contador = 0  # Contador de imágenes copiadas\n",
    "\n",
    "    # Itera por cada extensión y copia los archivos que coincidan\n",
    "    for ext in extensiones:\n",
    "        # Busca los archivos en el directorio de origen\n",
    "        for archivo in glob.glob(os.path.join(origen, ext)):\n",
    "            try:\n",
    "                shutil.copy(archivo, destino)\n",
    "                print(f\"Copiado: {archivo}\")\n",
    "                contador += 1\n",
    "            except Exception as e:\n",
    "                print(f\"Error al copiar {archivo}: {e}\")\n",
    "    \n",
    "    print(f\"Total de imágenes copiadas: {contador}\")\n",
    "\n",
    "ruta_origen = images_renamed_by_date_dir\n",
    "ruta_destino = images_processed_dir\n",
    "\n",
    "copiar_imagenes(ruta_origen, ruta_destino)"
   ]
  },
  {
   "cell_type": "markdown",
   "metadata": {},
   "source": [
    "## Se guarda la data procesada en un archivo pickle"
   ]
  },
  {
   "cell_type": "code",
   "execution_count": 7,
   "metadata": {},
   "outputs": [],
   "source": [
    "df.to_pickle(processed_data_pickle_path)"
   ]
  }
 ],
 "metadata": {
  "kernelspec": {
   "display_name": ".venv",
   "language": "python",
   "name": "python3"
  },
  "language_info": {
   "codemirror_mode": {
    "name": "ipython",
    "version": 3
   },
   "file_extension": ".py",
   "mimetype": "text/x-python",
   "name": "python",
   "nbconvert_exporter": "python",
   "pygments_lexer": "ipython3",
   "version": "3.12.4"
  }
 },
 "nbformat": 4,
 "nbformat_minor": 2
}
